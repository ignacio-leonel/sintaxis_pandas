{
 "cells": [
  {
   "cell_type": "markdown",
   "id": "76481e39",
   "metadata": {},
   "source": [
    "# importar librerias"
   ]
  },
  {
   "cell_type": "code",
   "execution_count": 4,
   "id": "c7324737",
   "metadata": {},
   "outputs": [],
   "source": [
    "import pandas as pd           #pandas libreria para trabajar con dataframes\n",
    "import numpy as np            #numpy  libreria para trabajar con datos numericos en python\n",
    "import matplotlib.pyplot as plt  #maplotlib libreria para trabajar con graficos \n",
    "\n",
    "import os                      #interactua con el sistema operativo"
   ]
  },
  {
   "cell_type": "markdown",
   "id": "19b094f4",
   "metadata": {},
   "source": [
    "## ingestar archivo local\n"
   ]
  },
  {
   "cell_type": "markdown",
   "id": "4a1a7044",
   "metadata": {},
   "source": [
    "ruta = 'C:/Users/Marcelo/Desktop/archive/ranking.csv'\n",
    "df= pd.read_csv(ruta)"
   ]
  },
  {
   "cell_type": "markdown",
   "id": "eb5b225c",
   "metadata": {},
   "source": [
    "# OPERACIONES CON COLUMNAS"
   ]
  },
  {
   "cell_type": "markdown",
   "id": "e650c6b4",
   "metadata": {},
   "source": [
    "## eliminar todas las columnas que tengan valores faltantes en todas sus filas"
   ]
  },
  {
   "cell_type": "markdown",
   "id": "4ec49f95",
   "metadata": {},
   "source": [
    "df.dropna(axis=1, how='all')"
   ]
  },
  {
   "cell_type": "markdown",
   "id": "f5106d7c",
   "metadata": {},
   "source": [
    "## reemplazar todos los valores vacios o NaN con un 0"
   ]
  },
  {
   "cell_type": "code",
   "execution_count": null,
   "id": "d6570ae7",
   "metadata": {},
   "outputs": [],
   "source": [
    "df.fillna(0, inplace=True)"
   ]
  },
  {
   "cell_type": "markdown",
   "id": "b9084439",
   "metadata": {},
   "source": [
    "## imprimir todos los nombres de columnas en un array"
   ]
  },
  {
   "cell_type": "code",
   "execution_count": 6,
   "id": "42508859",
   "metadata": {},
   "outputs": [
    {
     "name": "stdout",
     "output_type": "stream",
     "text": [
      "Index(['img', 'title', 'console', 'genre', 'publisher', 'developer',\n",
      "       'critic_score', 'total_sales', 'na_sales', 'jp_sales', 'pal_sales',\n",
      "       'other_sales', 'release_date', 'last_update'],\n",
      "      dtype='object')\n"
     ]
    }
   ],
   "source": [
    "print (df.columns)"
   ]
  },
  {
   "cell_type": "markdown",
   "id": "17e27231",
   "metadata": {},
   "source": [
    "## eliminar columnas que no vamos a usar"
   ]
  },
  {
   "cell_type": "code",
   "execution_count": null,
   "id": "613ecc3e",
   "metadata": {},
   "outputs": [],
   "source": [
    "# hacer un array con todos los nombres de las columnas que queremos eliminar\n",
    "\n",
    "col_elim= ['img', 'publisher', 'developer','release_date', 'last_update', 'critic_score','console']\n",
    "\n",
    "#eliminar todas esas columnas\n",
    "\n",
    "df = df.drop(col_elim, axis=1)"
   ]
  },
  {
   "cell_type": "markdown",
   "id": "f269374a",
   "metadata": {},
   "source": [
    "## renombrar columnas"
   ]
  },
  {
   "cell_type": "code",
   "execution_count": null,
   "id": "ea174bad",
   "metadata": {},
   "outputs": [],
   "source": [
    "df= df.rename(columns={'total_sales':'ventas_totales'})"
   ]
  },
  {
   "cell_type": "markdown",
   "id": "7797bbbb",
   "metadata": {},
   "source": [
    "## filtrar por valor en una columna"
   ]
  },
  {
   "cell_type": "markdown",
   "id": "dd831137",
   "metadata": {},
   "source": [
    "df = df.drop(df[df[\"ventas_totales\"] <= 1].index, axis=0)\n",
    "\n",
    "#Mostrar el DataFrame resultante\n",
    "print(df)"
   ]
  },
  {
   "cell_type": "markdown",
   "id": "15a2c3e4",
   "metadata": {},
   "source": [
    "## agrupar por valor especifico, sumar todos los valores en las columnas restantes"
   ]
  },
  {
   "cell_type": "code",
   "execution_count": null,
   "id": "a5dd9cb6",
   "metadata": {},
   "outputs": [],
   "source": [
    "df_agrupado = df.groupby(\"nombre_juego\").sum().reset_index()"
   ]
  },
  {
   "cell_type": "markdown",
   "id": "f9c6f1d7",
   "metadata": {},
   "source": [
    "## ordenar de mayor a menor por valores en una columna"
   ]
  },
  {
   "cell_type": "code",
   "execution_count": null,
   "id": "3b8c0259",
   "metadata": {},
   "outputs": [],
   "source": [
    "df_agrupado = df_agrupado.sort_values(by=\"ventas_totales\", ascending=False)"
   ]
  },
  {
   "cell_type": "markdown",
   "id": "f5baf9b4",
   "metadata": {},
   "source": [
    "## seleccionar columnas de dfs distintos y hacer uno nuevo con ellas"
   ]
  },
  {
   "cell_type": "code",
   "execution_count": null,
   "id": "c16e42a3",
   "metadata": {},
   "outputs": [],
   "source": [
    "# seleccionar los nombres de las columnas elegidas \n",
    "df1_selected = df1.loc[:, ['A', 'B']]\n",
    "df2_selected = df2.loc[:, ['E', 'F']]\n",
    "\n",
    "# Concatenar los DataFrames seleccionados\n",
    "nuevo_df = pd.concat([df1_selected, df2_selected], axis=1)"
   ]
  },
  {
   "cell_type": "markdown",
   "id": "7927f79f",
   "metadata": {},
   "source": [
    "## hacer un df con dos columnas y mostrar el promedio"
   ]
  },
  {
   "cell_type": "code",
   "execution_count": null,
   "id": "7b4cfe94",
   "metadata": {},
   "outputs": [],
   "source": [
    "columna_a = 'A'\n",
    "columna_c = 'C'\n",
    "\n",
    "# Calcular el promedio de las columnas seleccionadas\n",
    "promedio = (df[columna_a] + df[columna_c]) / 2\n",
    "\n",
    "# Crear un nuevo DataFrame con el promedio en una tercera columna\n",
    "nuevo_df = pd.DataFrame({columna_a: df[columna_a], columna_c: df[columna_c], 'Promedio': promedio})\n",
    "\n",
    "print(nuevo_df)"
   ]
  },
  {
   "cell_type": "markdown",
   "id": "b130b017",
   "metadata": {},
   "source": [
    "## unir dos df por valor en columna especifica"
   ]
  },
  {
   "cell_type": "code",
   "execution_count": null,
   "id": "2f2b7c36",
   "metadata": {},
   "outputs": [],
   "source": [
    "df_merged = pd.merge(df1, df2, on='clave', how='inner') #cambiar clave por la columna seleccionada"
   ]
  },
  {
   "cell_type": "markdown",
   "id": "f0f27641",
   "metadata": {},
   "source": [
    "## operaciones con filas"
   ]
  },
  {
   "cell_type": "markdown",
   "id": "8d9a199c",
   "metadata": {},
   "source": [
    "# agregar una nueva fila"
   ]
  },
  {
   "cell_type": "code",
   "execution_count": null,
   "id": "cb253e82",
   "metadata": {},
   "outputs": [],
   "source": [
    "nueva_fila = {'A': 10, 'B': 20}  # Nueva fila como un diccionario\n",
    "  \n",
    "# Agregar la nueva fila al DataFrame, ignore_index=True para reindexar las filas\n",
    "df = df.append(nueva_fila, ignore_index=True)"
   ]
  },
  {
   "cell_type": "markdown",
   "id": "8d376fe1",
   "metadata": {},
   "source": [
    "# GUARDAR EL DF"
   ]
  },
  {
   "cell_type": "markdown",
   "id": "1cfd4e8c",
   "metadata": {},
   "source": [
    "###  exportar el df a excel o csv"
   ]
  },
  {
   "cell_type": "code",
   "execution_count": null,
   "id": "751d75f4",
   "metadata": {},
   "outputs": [],
   "source": [
    "# Guardar DataFrame en un archivo CSV\n",
    "df_procesado.to_csv('df_procesado.csv', index=False)  # index=False para no incluir el índice en el archivo CSV\n",
    "\n",
    "# Guardar DataFrame en un archivo Excel\n",
    "df_procesado.to_excel('df_procesado.xlsx', index=False)  # index=False para no incluir el índice en el archivo Excel"
   ]
  },
  {
   "cell_type": "markdown",
   "id": "de64458b",
   "metadata": {},
   "source": [
    "### exportar a sqlite\n"
   ]
  },
  {
   "cell_type": "code",
   "execution_count": null,
   "id": "907758e2",
   "metadata": {},
   "outputs": [],
   "source": [
    "import sqlite3\n",
    "\n",
    "# Conectar a la base de datos SQLite\n",
    "conn = sqlite3.connect('datos.db')\n",
    "\n",
    "# Guardar DataFrame en una tabla en la base de datos SQLite\n",
    "df_procesado.to_sql('tabla_datos', conn, index=False, if_exists='replace')  \n",
    "# index=False para no incluir el índice como columna en la tabla\n",
    "# if_exists='replace' para reemplazar la tabla si ya existe, \n",
    "#puedes cambiarlo a 'append' si quieres agregar datos a una tabla existente\n",
    "\n",
    "# Cerrar la conexión a la base de datos\n",
    "conn.close()"
   ]
  }
 ],
 "metadata": {
  "kernelspec": {
   "display_name": "Python 3 (ipykernel)",
   "language": "python",
   "name": "python3"
  },
  "language_info": {
   "codemirror_mode": {
    "name": "ipython",
    "version": 3
   },
   "file_extension": ".py",
   "mimetype": "text/x-python",
   "name": "python",
   "nbconvert_exporter": "python",
   "pygments_lexer": "ipython3",
   "version": "3.11.4"
  }
 },
 "nbformat": 4,
 "nbformat_minor": 5
}
